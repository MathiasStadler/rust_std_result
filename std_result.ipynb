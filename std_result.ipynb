{
 "cells": [
  {
   "cell_type": "markdown",
   "metadata": {},
   "source": [
    "# rust version"
   ]
  },
  {
   "cell_type": "code",
   "execution_count": null,
   "metadata": {
    "vscode": {
     "languageId": "rust"
    }
   },
   "outputs": [],
   "source": [
    "//:help\n",
    "//:version\t\n",
    "//:toolchain"
   ]
  },
  {
   "cell_type": "markdown",
   "metadata": {},
   "source": [
    "# working directory"
   ]
  },
  {
   "cell_type": "code",
   "execution_count": null,
   "metadata": {
    "vscode": {
     "languageId": "rust"
    }
   },
   "outputs": [],
   "source": [
    "//:help\n",
    ":last_compile_dir"
   ]
  },
  {
   "cell_type": "markdown",
   "metadata": {},
   "source": [
    "[FROM HERE](https://www.programiz.com/rust/error-handling)"
   ]
  },
  {
   "cell_type": "markdown",
   "metadata": {},
   "source": [
    "- Example 1: Rust Unrecoverable Errors with panic! Macro\n",
    "- - should create a panic message"
   ]
  },
  {
   "cell_type": "code",
   "execution_count": null,
   "metadata": {
    "vscode": {
     "languageId": "rust"
    }
   },
   "outputs": [],
   "source": [
    "fn main_one() {\n",
    "    println!(\"Hello, World!\");\n",
    "\n",
    "    // Explicitly exit the program with an unrecoverable error\n",
    "    panic!(\"!!! Crash message inside main_one fn !!!\");\n",
    "}"
   ]
  },
  {
   "cell_type": "code",
   "execution_count": null,
   "metadata": {
    "vscode": {
     "languageId": "rust"
    }
   },
   "outputs": [],
   "source": [
    "main_one();"
   ]
  },
  {
   "cell_type": "markdown",
   "metadata": {},
   "source": [
    "  - Example 2: Rust Unrecoverable Errors \n",
    "    - the has 3 values start by 0 and we call the 4 // numbers[3]"
   ]
  },
  {
   "cell_type": "code",
   "execution_count": null,
   "metadata": {
    "vscode": {
     "languageId": "rust"
    }
   },
   "outputs": [],
   "source": [
    "fn main_two() {\n",
    "    let numbers = [1, 2 ,3];\n",
    "\n",
    "    println!(\"unknown index value = {}\", numbers[3]);\n",
    "}"
   ]
  },
  {
   "cell_type": "markdown",
   "metadata": {},
   "source": [
    "- Recoverable Errors\n",
    "  - Recoverable errors are errors that won't stop a program from executing. Most errors are recoverable, and we can easily take action based on the type of error."
   ]
  },
  {
   "cell_type": "markdown",
   "metadata": {},
   "source": [
    "[FROM HERE](https://doc.rust-lang.org/std/fs/struct.File.html)"
   ]
  },
  {
   "cell_type": "markdown",
   "metadata": {},
   "source": [
    "- The Option Enum\n",
    "\n",
    "    - The Option type or Option<T> type is an enum type just like Result with two possible variants.\n",
    "\n",
    "    - None → to indicate failure with no value\n",
    "    - Some(T) → a value with type T\n"
   ]
  },
  {
   "cell_type": "markdown",
   "metadata": {},
   "source": [
    "- test Some"
   ]
  },
  {
   "cell_type": "code",
   "execution_count": null,
   "metadata": {
    "vscode": {
     "languageId": "rust"
    }
   },
   "outputs": [],
   "source": [
    "fn main_found_char() {\n",
    "    let text = \"Hello, World!\";\n",
    "    \n",
    "    let index:usize =7;\n",
    "    let character_option = text.chars().nth(index);\n",
    "    \n",
    "    // using match for Option type\n",
    "    let character = match character_option {\n",
    "        None => \"empty\".to_string(),\n",
    "        Some(c) => c.to_string()\n",
    "    };\n",
    "\n",
    "    \n",
    "    println!(\"Character at index {} is {}\", index,character);\n",
    "}"
   ]
  },
  {
   "cell_type": "code",
   "execution_count": null,
   "metadata": {
    "vscode": {
     "languageId": "rust"
    }
   },
   "outputs": [],
   "source": [
    "main_found_char();"
   ]
  },
  {
   "cell_type": "markdown",
   "metadata": {},
   "source": [
    "- test None"
   ]
  },
  {
   "cell_type": "code",
   "execution_count": null,
   "metadata": {
    "vscode": {
     "languageId": "rust"
    }
   },
   "outputs": [],
   "source": [
    "fn main_not_found_char() {\n",
    "    let text = \"Hello, World!\";\n",
    "    \n",
    "    let index:usize =100;\n",
    "    let character_option = text.chars().nth(index);\n",
    "    \n",
    "    // using match for Option type\n",
    "    let character = match character_option {\n",
    "        None => \"empty\".to_string(),\n",
    "        Some(c) => c.to_string()\n",
    "    };\n",
    "\n",
    "    \n",
    "    println!(\"Character at index {} is {}\", index,character);\n",
    "}"
   ]
  },
  {
   "cell_type": "code",
   "execution_count": null,
   "metadata": {
    "vscode": {
     "languageId": "rust"
    }
   },
   "outputs": [],
   "source": [
    "main_not_found_char();"
   ]
  },
  {
   "cell_type": "markdown",
   "metadata": {},
   "source": [
    "[FROM HERE](https://doc.rust-lang.org/rust-by-example/error/result.html)"
   ]
  },
  {
   "cell_type": "code",
   "execution_count": null,
   "metadata": {
    "vscode": {
     "languageId": "rust"
    }
   },
   "outputs": [],
   "source": [
    "use std::num::ParseIntError;\n",
    "\n",
    "fn main_a() -> Result<(), ParseIntError> {\n",
    "    let number_str = \"10\";\n",
    "    let number = match number_str.parse::<i32>() {\n",
    "        Ok(number)  => number,\n",
    "        Err(e) => return Err(e),\n",
    "    };\n",
    "    println!(\"{}\", number);\n",
    "    Ok(())\n",
    "}"
   ]
  },
  {
   "cell_type": "code",
   "execution_count": null,
   "metadata": {
    "vscode": {
     "languageId": "rust"
    }
   },
   "outputs": [],
   "source": [
    "main_a();"
   ]
  },
  {
   "cell_type": "code",
   "execution_count": null,
   "metadata": {
    "vscode": {
     "languageId": "rust"
    }
   },
   "outputs": [],
   "source": [
    "use std::num::ParseIntError;\n",
    "\n",
    "fn main_b() -> Result<(), ParseIntError> {\n",
    "    let number_str = \"10\";\n",
    "    let result = number_str.parse::<i32>();\n",
    "    let number = match result {\n",
    "        Ok(number)  => number,\n",
    "        Err(e) => return Err(e),\n",
    "    };\n",
    "    println!(\"{}\", number);\n",
    "    Ok(())\n",
    "}"
   ]
  },
  {
   "cell_type": "code",
   "execution_count": null,
   "metadata": {
    "vscode": {
     "languageId": "rust"
    }
   },
   "outputs": [],
   "source": [
    "main_b();"
   ]
  },
  {
   "cell_type": "markdown",
   "metadata": {},
   "source": [
    "- result inside method"
   ]
  },
  {
   "cell_type": "markdown",
   "metadata": {},
   "source": [
    "[FROM HERE](https://doc.rust-lang.org/rust-by-example/error/result/result_map.html)"
   ]
  },
  {
   "cell_type": "code",
   "execution_count": null,
   "metadata": {
    "vscode": {
     "languageId": "rust"
    }
   },
   "outputs": [],
   "source": [
    "use std::num::ParseIntError;\n",
    "\n",
    "// With the return type rewritten, we use pattern matching without `unwrap()`.\n",
    "fn multiply(first_number_str: &str, second_number_str: &str) -> Result<i32, ParseIntError> {\n",
    "    match first_number_str.parse::<i32>() {\n",
    "        Ok(first_number) => match second_number_str.parse::<i32>() {\n",
    "            Ok(second_number) => Ok(first_number * second_number),\n",
    "            Err(e) => Err(e),\n",
    "        },\n",
    "        Err(e) => Err(e),\n",
    "    }\n",
    "}\n",
    "\n",
    "fn print(result: Result<i32, ParseIntError>) {\n",
    "    match result {\n",
    "        Ok(n) => println!(\"n is {}\", n),\n",
    "        Err(e) => println!(\"Error: {}\", e),\n",
    "    }\n",
    "}\n",
    "\n",
    "fn result_complex_one() {\n",
    "    // This still presents a reasonable answer.\n",
    "    let twenty = multiply(\"10\", \"3\");\n",
    "    print(twenty);\n",
    "\n",
    "    // The following now provides a much more helpful error message.\n",
    "    let tt = multiply(\"t\", \"2\");\n",
    "    print(tt);\n",
    "}\n"
   ]
  },
  {
   "cell_type": "code",
   "execution_count": null,
   "metadata": {
    "vscode": {
     "languageId": "rust"
    }
   },
   "outputs": [],
   "source": [
    "result_complex_one();"
   ]
  },
  {
   "cell_type": "code",
   "execution_count": null,
   "metadata": {
    "vscode": {
     "languageId": "rust"
    }
   },
   "outputs": [],
   "source": []
  },
  {
   "cell_type": "markdown",
   "metadata": {},
   "source": [
    "simplify fn only with one var, only with one error enum"
   ]
  },
  {
   "cell_type": "code",
   "execution_count": null,
   "metadata": {
    "vscode": {
     "languageId": "rust"
    }
   },
   "outputs": [],
   "source": [
    "use std::num::ParseIntError;\n",
    "use std::any::type_name;\n",
    "\n",
    "// FROM HERE\n",
    "// https://www.hackertouch.com/how-to-print-type-of-variable-in-rust.html\n",
    "/*fn type_of(_: &T) -> &'static str {\n",
    "    type_name::()\n",
    "}\n",
    "*/\n",
    "\n",
    "\n",
    "// With the return type rewritten, we use pattern matching without `unwrap()`.\n",
    "fn parse_str_to_int(first_number_str: &str) -> Result<i32, ParseIntError> {\n",
    "    \n",
    "    let result = first_number_str.parse::<i32>();\n",
    "    match result  {\n",
    "            Ok(first_number) => Ok(first_number),\n",
    "            Err(e) => Err(e),\n",
    "        }\n",
    "}\n",
    "\n",
    "fn print(result: Result<i32, ParseIntError>) {\n",
    "    match result {\n",
    "        Ok(n) => println!(\"n is {}\", n),\n",
    "        Err(e) => println!(\"Error: {}\", e),\n",
    "    }\n",
    "}\n",
    "\n",
    "// can be main() function\n",
    "fn result_complex_two() {\n",
    "\n",
    "    \n",
    "    // This still presents a reasonable answer.\n",
    "    let int_var = parse_str_to_int(\"10\");\n",
    "    \n",
    "    print(int_var);\n",
    "\n",
    "    \n",
    "}\n"
   ]
  },
  {
   "cell_type": "code",
   "execution_count": null,
   "metadata": {
    "vscode": {
     "languageId": "rust"
    }
   },
   "outputs": [],
   "source": [
    "result_complex_two();"
   ]
  },
  {
   "cell_type": "markdown",
   "metadata": {},
   "source": [
    "# [result](https://doc.rust-lang.org/book/ch09-02-recoverable-errors-with-result.html)"
   ]
  },
  {
   "cell_type": "markdown",
   "metadata": {
    "vscode": {
     "languageId": "rust"
    }
   },
   "source": [
    "# [rust stable book](https://doc.rust-lang.org/stable/book/)"
   ]
  },
  {
   "cell_type": "markdown",
   "metadata": {},
   "source": [
    "[FROM HERE](Listing 9-6: A function that returns errors to the calling code using match)"
   ]
  },
  {
   "cell_type": "code",
   "execution_count": null,
   "metadata": {
    "vscode": {
     "languageId": "rust"
    }
   },
   "outputs": [],
   "source": [
    "use std::fs::File;\n",
    "use std::io::{self, Read};\n",
    "\n",
    "fn read_username_from_file() -> Result<String, io::Error> {\n",
    "    \n",
    "    let username_file_result = File::open(\"hello.txt\");\n",
    "\n",
    "    let mut username_file = match username_file_result {\n",
    "        Ok(file) => file,\n",
    "        Err(e) => return Err(e),\n",
    "    };\n",
    "\n",
    "    let mut username = String::new();\n",
    "\n",
    "    match username_file.read_to_string(&mut username) {\n",
    "        Ok(_) => Ok(username),\n",
    "        Err(e) => Err(e),\n",
    "    }\n",
    "}\n"
   ]
  },
  {
   "cell_type": "code",
   "execution_count": null,
   "metadata": {
    "vscode": {
     "languageId": "rust"
    }
   },
   "outputs": [],
   "source": [
    "fn call_read_username_from_file(){\n",
    "\n",
    "let result = read_username_from_file();\n",
    "match result{\n",
    "    Ok(user_name) => println!(\"{:?}\",user_name),\n",
    "    Err(e) => println!(\"Show err inside arm => {:?}\",e),\n",
    "\n",
    "}\n",
    "}"
   ]
  },
  {
   "cell_type": "code",
   "execution_count": null,
   "metadata": {
    "vscode": {
     "languageId": "rust"
    }
   },
   "outputs": [],
   "source": [
    "call_read_username_from_file();"
   ]
  },
  {
   "cell_type": "markdown",
   "metadata": {},
   "source": [
    "- The ? placed after a Result value is defined to work in almost the same way as the match expressions we defined to handle the Result values"
   ]
  },
  {
   "cell_type": "code",
   "execution_count": null,
   "metadata": {
    "vscode": {
     "languageId": "rust"
    }
   },
   "outputs": [],
   "source": [
    "use std::io::{self, Read};\n",
    "\n",
    "fn read_username_from_file() -> Result<String, io::Error> {\n",
    "    let mut username_file = File::open(\"hello.txt\")?;\n",
    "    let mut username = String::new();\n",
    "    username_file.read_to_string(&mut username)?;\n",
    "    Ok(username)\n",
    "}"
   ]
  },
  {
   "cell_type": "code",
   "execution_count": null,
   "metadata": {
    "vscode": {
     "languageId": "rust"
    }
   },
   "outputs": [],
   "source": [
    "fn call_read_username_from_file() {\n",
    "    read_username_from_file();\n",
    "}\n"
   ]
  },
  {
   "cell_type": "code",
   "execution_count": null,
   "metadata": {
    "vscode": {
     "languageId": "rust"
    }
   },
   "outputs": [],
   "source": [
    "call_read_username_from_file();"
   ]
  },
  {
   "cell_type": "markdown",
   "metadata": {},
   "source": [
    "# create a new file\n",
    "\n",
    "- [FROM HERE](https://doc.rust-lang.org/std/fs/struct.File.html)"
   ]
  },
  {
   "cell_type": "code",
   "execution_count": 39,
   "metadata": {
    "vscode": {
     "languageId": "rust"
    }
   },
   "outputs": [],
   "source": [
    "use std::fs::File;\n",
    "use std::io::prelude::*;\n",
    "\n",
    "fn create_new_file() -> std::io::Result<()> {\n",
    "    let mut file = File::create(\"foo.txt\")?;\n",
    "    file.write_all(b\"Hello, world!\")?;\n",
    "    Ok(())\n",
    "}"
   ]
  },
  {
   "cell_type": "code",
   "execution_count": null,
   "metadata": {
    "vscode": {
     "languageId": "rust"
    }
   },
   "outputs": [],
   "source": [
    "create_new_file();"
   ]
  },
  {
   "cell_type": "markdown",
   "metadata": {},
   "source": [
    "- write a file"
   ]
  },
  {
   "cell_type": "code",
   "execution_count": 36,
   "metadata": {
    "vscode": {
     "languageId": "rust"
    }
   },
   "outputs": [],
   "source": [
    "use std::fs::File;\n",
    "\n",
    "fn create_data_txt_file() {\n",
    "    // Open a file in read only mode in the local file system\n",
    "    let data_result = File::open(\"data.txt\");\n",
    "\n",
    "    // Reading a file returns a Result enum\n",
    "    // Result can be a file or an error\n",
    "    let data_file = match data_result {\n",
    "        Ok(file) => file,\n",
    "        Err(error) => panic!(\"Problem opening the data file: {:?}\", error),\n",
    "    };\n",
    "\n",
    "    println!(\"Data file: {:?}\", data_file);\n",
    "}"
   ]
  },
  {
   "cell_type": "code",
   "execution_count": 37,
   "metadata": {
    "vscode": {
     "languageId": "rust"
    }
   },
   "outputs": [
    {
     "name": "stderr",
     "output_type": "stream",
     "text": [
      "thread '<unnamed>' panicked at 'Problem opening the data file: Os { code: 2, kind: NotFound, message: \"No such file or directory\" }', src/lib.rs:32:23\n",
      "stack backtrace:\n",
      "   0: rust_begin_unwind\n",
      "             at /rustc/5680fa18feaa87f3ff04063800aec256c3d4b4be/library/std/src/panicking.rs:593:5\n",
      "   1: core::panicking::panic_fmt\n",
      "             at /rustc/5680fa18feaa87f3ff04063800aec256c3d4b4be/library/core/src/panicking.rs:67:14\n",
      "   2: ctx::create_data_txt_file\n",
      "   3: run_user_code_19\n",
      "   4: evcxr::runtime::Runtime::run_loop\n",
      "   5: evcxr::runtime::runtime_hook\n",
      "   6: evcxr_jupyter::main\n",
      "note: Some details are omitted, run with `RUST_BACKTRACE=full` for a verbose backtrace.\n"
     ]
    }
   ],
   "source": [
    "create_data_txt_file();"
   ]
  },
  {
   "cell_type": "markdown",
   "metadata": {},
   "source": [
    "- [write to file tutorial](https://www.programiz.com/rust/file-handling)"
   ]
  },
  {
   "cell_type": "code",
   "execution_count": null,
   "metadata": {
    "vscode": {
     "languageId": "rust"
    }
   },
   "outputs": [],
   "source": [
    "fn write_string_to_file(&var_string) -> Result(String,io:Error){\n",
    "    let mut username_file = File::open(\"hello.txt\")?;\n",
    "    let mut username = String::new();\n",
    "    username_file.read_to_string(&mut username)?;\n",
    "    Ok(username)\n",
    "}"
   ]
  },
  {
   "cell_type": "code",
   "execution_count": 34,
   "metadata": {
    "vscode": {
     "languageId": "rust"
    }
   },
   "outputs": [],
   "source": [
    "fn call_write_string_to_file(var_string: &String) {\n",
    "    println!(\"{}\", &var_string);\n",
    "    write_string_to_file(&var_string);\n",
    "}\n"
   ]
  },
  {
   "cell_type": "code",
   "execution_count": 35,
   "metadata": {
    "vscode": {
     "languageId": "rust"
    }
   },
   "outputs": [
    {
     "name": "stdout",
     "output_type": "stream",
     "text": [
      "My String\n"
     ]
    }
   ],
   "source": [
    "use String;\n",
    "\n",
    "let var_string:String = String::from(\"My String\");\n",
    "call_write_string_to_file(&var_string);"
   ]
  }
 ],
 "metadata": {
  "kernelspec": {
   "display_name": "Rust",
   "language": "rust",
   "name": "rust"
  },
  "language_info": {
   "codemirror_mode": "rust",
   "file_extension": ".rs",
   "mimetype": "text/rust",
   "name": "Rust",
   "pygment_lexer": "rust",
   "version": ""
  },
  "orig_nbformat": 4
 },
 "nbformat": 4,
 "nbformat_minor": 2
}
