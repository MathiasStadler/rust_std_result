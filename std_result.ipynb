{
 "cells": [
  {
   "cell_type": "code",
   "execution_count": null,
   "metadata": {
    "vscode": {
     "languageId": "rust"
    }
   },
   "outputs": [],
   "source": [
    "//:help\n",
    ":last_compile_dir"
   ]
  },
  {
   "cell_type": "markdown",
   "metadata": {},
   "source": [
    "[FROM HERE](https://www.programiz.com/rust/error-handling)"
   ]
  },
  {
   "cell_type": "markdown",
   "metadata": {},
   "source": [
    "- Example 1: Rust Unrecoverable Errors with panic! Macro\n",
    "- - should create a panic message"
   ]
  },
  {
   "cell_type": "code",
   "execution_count": null,
   "metadata": {
    "vscode": {
     "languageId": "rust"
    }
   },
   "outputs": [],
   "source": [
    "fn main_one() {\n",
    "    println!(\"Hello, World!\");\n",
    "\n",
    "    // Explicitly exit the program with an unrecoverable error\n",
    "    panic!(\"!!! Crash message inside main_one fn !!!\");\n",
    "}"
   ]
  },
  {
   "cell_type": "code",
   "execution_count": null,
   "metadata": {
    "vscode": {
     "languageId": "rust"
    }
   },
   "outputs": [],
   "source": [
    "main_one();"
   ]
  },
  {
   "cell_type": "markdown",
   "metadata": {},
   "source": [
    "  - Example 2: Rust Unrecoverable Errors \n",
    "  - - the has 3 values start by 0 and we call the 4 // numbers[3]"
   ]
  },
  {
   "cell_type": "code",
   "execution_count": null,
   "metadata": {
    "vscode": {
     "languageId": "rust"
    }
   },
   "outputs": [],
   "source": [
    "fn main_two() {\n",
    "    let numbers = [1, 2 ,3];\n",
    "\n",
    "    println!(\"unknown index value = {}\", numbers[3]);\n",
    "}"
   ]
  },
  {
   "cell_type": "markdown",
   "metadata": {},
   "source": [
    "- Recoverable Errors\n",
    "  - Recoverable errors are errors that won't stop a program from executing. Most errors are recoverable, and we can easily take action based on the type of error."
   ]
  },
  {
   "cell_type": "code",
   "execution_count": null,
   "metadata": {
    "vscode": {
     "languageId": "rust"
    }
   },
   "outputs": [],
   "source": [
    "use std::fs::File;\n",
    "\n",
    "fn main_three() {\n",
    "    let data_result = File::open(\"data.txt\");\n",
    "\n",
    "    // using match for Result type\n",
    "    let data_file = match data_result {\n",
    "        Ok(file) => file,\n",
    "        Err(error) => panic!(\"Problem opening the data file: {:?}\", error),\n",
    "    };\n",
    "\n",
    "\n",
    "    println!(\"Data file\", data_file);\n",
    "}"
   ]
  },
  {
   "cell_type": "markdown",
   "metadata": {},
   "source": []
  },
  {
   "cell_type": "code",
   "execution_count": 66,
   "metadata": {
    "vscode": {
     "languageId": "rust"
    }
   },
   "outputs": [],
   "source": [
    "fn main_found_char() {\n",
    "    let text = \"Hello, World!\";\n",
    "    \n",
    "    let index:usize =7;\n",
    "    let character_option = text.chars().nth(index);\n",
    "    \n",
    "    // using match for Option type\n",
    "    let character = match character_option {\n",
    "        None => \"empty\".to_string(),\n",
    "        Some(c) => c.to_string()\n",
    "    };\n",
    "\n",
    "    \n",
    "    println!(\"Character at index {} is {}\", index,character);\n",
    "}"
   ]
  },
  {
   "cell_type": "code",
   "execution_count": 67,
   "metadata": {
    "vscode": {
     "languageId": "rust"
    }
   },
   "outputs": [
    {
     "name": "stdout",
     "output_type": "stream",
     "text": [
      "Character at index 15 is W\n"
     ]
    }
   ],
   "source": [
    "main_four();"
   ]
  },
  {
   "cell_type": "markdown",
   "metadata": {},
   "source": [
    "- test None"
   ]
  },
  {
   "cell_type": "code",
   "execution_count": 64,
   "metadata": {
    "vscode": {
     "languageId": "rust"
    }
   },
   "outputs": [],
   "source": [
    "fn main_not_found_char() {\n",
    "    let text = \"Hello, World!\";\n",
    "    \n",
    "    let index:usize =100;\n",
    "    let character_option = text.chars().nth(index);\n",
    "    \n",
    "    // using match for Option type\n",
    "    let character = match character_option {\n",
    "        None => \"empty\".to_string(),\n",
    "        Some(c) => c.to_string()\n",
    "    };\n",
    "\n",
    "    \n",
    "    println!(\"Character at index {} is {}\", index,character);\n",
    "}"
   ]
  },
  {
   "cell_type": "code",
   "execution_count": 65,
   "metadata": {
    "vscode": {
     "languageId": "rust"
    }
   },
   "outputs": [
    {
     "name": "stdout",
     "output_type": "stream",
     "text": [
      "Character at index 100 is empty\n"
     ]
    }
   ],
   "source": [
    "main_not_found_char();"
   ]
  }
 ],
 "metadata": {
  "kernelspec": {
   "display_name": "Rust",
   "language": "rust",
   "name": "rust"
  },
  "language_info": {
   "codemirror_mode": "rust",
   "file_extension": ".rs",
   "mimetype": "text/rust",
   "name": "Rust",
   "pygment_lexer": "rust",
   "version": ""
  },
  "orig_nbformat": 4
 },
 "nbformat": 4,
 "nbformat_minor": 2
}
