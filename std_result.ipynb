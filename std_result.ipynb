{
 "cells": [
  {
   "cell_type": "markdown",
   "metadata": {},
   "source": [
    "# rust version"
   ]
  },
  {
   "cell_type": "code",
   "execution_count": 97,
   "metadata": {
    "vscode": {
     "languageId": "rust"
    }
   },
   "outputs": [
    {
     "ename": "Error",
     "evalue": "Unrecognised command :version\t",
     "output_type": "error",
     "traceback": [
      "\u001b[31mError:\u001b[0m Unrecognised command :version\t"
     ]
    }
   ],
   "source": [
    "//:help\n",
    "//:version\t\n",
    "//:toolchain"
   ]
  },
  {
   "cell_type": "markdown",
   "metadata": {},
   "source": [
    "# working directory"
   ]
  },
  {
   "cell_type": "code",
   "execution_count": 98,
   "metadata": {
    "vscode": {
     "languageId": "rust"
    }
   },
   "outputs": [
    {
     "data": {
      "text/plain": [
       "\"/tmp/.tmpmmtJ5H\"\n"
      ]
     },
     "execution_count": 98,
     "metadata": {},
     "output_type": "execute_result"
    }
   ],
   "source": [
    "//:help\n",
    ":last_compile_dir"
   ]
  },
  {
   "cell_type": "markdown",
   "metadata": {},
   "source": [
    "[FROM HERE](https://www.programiz.com/rust/error-handling)"
   ]
  },
  {
   "cell_type": "markdown",
   "metadata": {},
   "source": [
    "- Example 1: Rust Unrecoverable Errors with panic! Macro\n",
    "- - should create a panic message"
   ]
  },
  {
   "cell_type": "code",
   "execution_count": null,
   "metadata": {
    "vscode": {
     "languageId": "rust"
    }
   },
   "outputs": [],
   "source": [
    "fn main_one() {\n",
    "    println!(\"Hello, World!\");\n",
    "\n",
    "    // Explicitly exit the program with an unrecoverable error\n",
    "    panic!(\"!!! Crash message inside main_one fn !!!\");\n",
    "}"
   ]
  },
  {
   "cell_type": "code",
   "execution_count": null,
   "metadata": {
    "vscode": {
     "languageId": "rust"
    }
   },
   "outputs": [],
   "source": [
    "main_one();"
   ]
  },
  {
   "cell_type": "markdown",
   "metadata": {},
   "source": [
    "  - Example 2: Rust Unrecoverable Errors \n",
    "    - the has 3 values start by 0 and we call the 4 // numbers[3]"
   ]
  },
  {
   "cell_type": "code",
   "execution_count": null,
   "metadata": {
    "vscode": {
     "languageId": "rust"
    }
   },
   "outputs": [],
   "source": [
    "fn main_two() {\n",
    "    let numbers = [1, 2 ,3];\n",
    "\n",
    "    println!(\"unknown index value = {}\", numbers[3]);\n",
    "}"
   ]
  },
  {
   "cell_type": "markdown",
   "metadata": {},
   "source": [
    "- Recoverable Errors\n",
    "  - Recoverable errors are errors that won't stop a program from executing. Most errors are recoverable, and we can easily take action based on the type of error."
   ]
  },
  {
   "cell_type": "markdown",
   "metadata": {},
   "source": [
    "[FROM HERE](https://doc.rust-lang.org/std/fs/struct.File.html)"
   ]
  },
  {
   "cell_type": "markdown",
   "metadata": {},
   "source": [
    "# [good examples](https://doc.rust-lang.org/std/fs/struct.File.html)"
   ]
  },
  {
   "cell_type": "code",
   "execution_count": null,
   "metadata": {
    "vscode": {
     "languageId": "rust"
    }
   },
   "outputs": [],
   "source": [
    "use std::fs::File;\n",
    "use std::io::prelude::*;\n",
    "\n",
    "fn main_three() -> std::io::Result<()>{\n",
    "    let mut file = File::create(\"foo.txt\")?;\n",
    "    let data_result = file.write_all(b\"Hello, world!\")?;\n",
    "    // using match for Result type\n",
    "    let data_file = match data_result {\n",
    "        Ok(file) => file,\n",
    "        Err(error) => panic!(\"Problem opening the data file: {:?}\", error),\n",
    "    };\n",
    "\n",
    "    //println!(\"Data file {}\", data_file);\n",
    "}\n"
   ]
  },
  {
   "cell_type": "markdown",
   "metadata": {},
   "source": [
    "- The Option Enum\n",
    "\n",
    "    - The Option type or Option<T> type is an enum type just like Result with two possible variants.\n",
    "\n",
    "    - None → to indicate failure with no value\n",
    "    - Some(T) → a value with type T\n"
   ]
  },
  {
   "cell_type": "markdown",
   "metadata": {},
   "source": [
    "- test Some"
   ]
  },
  {
   "cell_type": "code",
   "execution_count": null,
   "metadata": {
    "vscode": {
     "languageId": "rust"
    }
   },
   "outputs": [],
   "source": [
    "fn main_found_char() {\n",
    "    let text = \"Hello, World!\";\n",
    "    \n",
    "    let index:usize =7;\n",
    "    let character_option = text.chars().nth(index);\n",
    "    \n",
    "    // using match for Option type\n",
    "    let character = match character_option {\n",
    "        None => \"empty\".to_string(),\n",
    "        Some(c) => c.to_string()\n",
    "    };\n",
    "\n",
    "    \n",
    "    println!(\"Character at index {} is {}\", index,character);\n",
    "}"
   ]
  },
  {
   "cell_type": "code",
   "execution_count": null,
   "metadata": {
    "vscode": {
     "languageId": "rust"
    }
   },
   "outputs": [],
   "source": [
    "main_found_char();"
   ]
  },
  {
   "cell_type": "markdown",
   "metadata": {},
   "source": [
    "- test None"
   ]
  },
  {
   "cell_type": "code",
   "execution_count": null,
   "metadata": {
    "vscode": {
     "languageId": "rust"
    }
   },
   "outputs": [],
   "source": [
    "fn main_not_found_char() {\n",
    "    let text = \"Hello, World!\";\n",
    "    \n",
    "    let index:usize =100;\n",
    "    let character_option = text.chars().nth(index);\n",
    "    \n",
    "    // using match for Option type\n",
    "    let character = match character_option {\n",
    "        None => \"empty\".to_string(),\n",
    "        Some(c) => c.to_string()\n",
    "    };\n",
    "\n",
    "    \n",
    "    println!(\"Character at index {} is {}\", index,character);\n",
    "}"
   ]
  },
  {
   "cell_type": "code",
   "execution_count": null,
   "metadata": {
    "vscode": {
     "languageId": "rust"
    }
   },
   "outputs": [],
   "source": [
    "main_not_found_char();"
   ]
  },
  {
   "cell_type": "markdown",
   "metadata": {},
   "source": [
    "8FROM HERE](https://doc.rust-lang.org/rust-by-example/error/result.html)"
   ]
  },
  {
   "cell_type": "code",
   "execution_count": null,
   "metadata": {
    "vscode": {
     "languageId": "rust"
    }
   },
   "outputs": [],
   "source": [
    "use std::num::ParseIntError;\n",
    "\n",
    "fn main_a() -> Result<(), ParseIntError> {\n",
    "    let number_str = \"10\";\n",
    "    let number = match number_str.parse::<i32>() {\n",
    "        Ok(number)  => number,\n",
    "        Err(e) => return Err(e),\n",
    "    };\n",
    "    println!(\"{}\", number);\n",
    "    Ok(())\n",
    "}"
   ]
  },
  {
   "cell_type": "code",
   "execution_count": null,
   "metadata": {
    "vscode": {
     "languageId": "rust"
    }
   },
   "outputs": [],
   "source": [
    "main_a();"
   ]
  },
  {
   "cell_type": "code",
   "execution_count": null,
   "metadata": {
    "vscode": {
     "languageId": "rust"
    }
   },
   "outputs": [],
   "source": [
    "use std::num::ParseIntError;\n",
    "\n",
    "fn main_b() -> Result<(), ParseIntError> {\n",
    "    let number_str = \"10\";\n",
    "    let result = number_str.parse::<i32>();\n",
    "    let number = match result {\n",
    "        Ok(number)  => number,\n",
    "        Err(e) => return Err(e),\n",
    "    };\n",
    "    println!(\"{}\", number);\n",
    "    Ok(())\n",
    "}"
   ]
  },
  {
   "cell_type": "code",
   "execution_count": null,
   "metadata": {
    "vscode": {
     "languageId": "rust"
    }
   },
   "outputs": [],
   "source": [
    "main_b();"
   ]
  },
  {
   "cell_type": "markdown",
   "metadata": {},
   "source": [
    "- result inside method"
   ]
  },
  {
   "cell_type": "markdown",
   "metadata": {},
   "source": [
    "[FROM HERE](https://doc.rust-lang.org/rust-by-example/error/result/result_map.html)"
   ]
  },
  {
   "cell_type": "code",
   "execution_count": 101,
   "metadata": {
    "vscode": {
     "languageId": "rust"
    }
   },
   "outputs": [],
   "source": [
    "use std::num::ParseIntError;\n",
    "\n",
    "// With the return type rewritten, we use pattern matching without `unwrap()`.\n",
    "fn multiply(first_number_str: &str, second_number_str: &str) -> Result<i32, ParseIntError> {\n",
    "    match first_number_str.parse::<i32>() {\n",
    "        Ok(first_number) => match second_number_str.parse::<i32>() {\n",
    "            Ok(second_number) => Ok(first_number * second_number),\n",
    "            Err(e) => Err(e),\n",
    "        },\n",
    "        Err(e) => Err(e),\n",
    "    }\n",
    "}\n",
    "\n",
    "fn print(result: Result<i32, ParseIntError>) {\n",
    "    match result {\n",
    "        Ok(n) => println!(\"n is {}\", n),\n",
    "        Err(e) => println!(\"Error: {}\", e),\n",
    "    }\n",
    "}\n",
    "\n",
    "fn result_complex_one() {\n",
    "    // This still presents a reasonable answer.\n",
    "    let twenty = multiply(\"10\", \"3\");\n",
    "    print(twenty);\n",
    "\n",
    "    // The following now provides a much more helpful error message.\n",
    "    let tt = multiply(\"t\", \"2\");\n",
    "    print(tt);\n",
    "}\n"
   ]
  },
  {
   "cell_type": "code",
   "execution_count": 102,
   "metadata": {
    "vscode": {
     "languageId": "rust"
    }
   },
   "outputs": [
    {
     "name": "stdout",
     "output_type": "stream",
     "text": [
      "n is 30\n",
      "Error: invalid digit found in string\n"
     ]
    }
   ],
   "source": [
    "result_complex_one();"
   ]
  },
  {
   "cell_type": "code",
   "execution_count": 107,
   "metadata": {
    "vscode": {
     "languageId": "rust"
    }
   },
   "outputs": [],
   "source": [
    "use std::num::ParseIntError;\n",
    "\n",
    "// With the return type rewritten, we use pattern matching without `unwrap()`.\n",
    "fn parse_str_to_int(first_number_str: &str) -> Result<i32, ParseIntError> {\n",
    "    match first_number_str.parse::<i32>() {\n",
    "            Ok(first_number) => Ok(first_number),\n",
    "            Err(e) => Err(e),\n",
    "        }\n",
    "}\n",
    "\n",
    "fn print(result: Result<i32, ParseIntError>) {\n",
    "    match result {\n",
    "        Ok(n) => println!(\"n is {}\", n),\n",
    "        Err(e) => println!(\"Error: {}\", e),\n",
    "    }\n",
    "}\n",
    "\n",
    "fn result_complex_two() {\n",
    "    // This still presents a reasonable answer.\n",
    "    let int = parse_str_to_int(\"10\");\n",
    "    print(int);\n",
    "\n",
    "    \n",
    "}\n"
   ]
  },
  {
   "cell_type": "code",
   "execution_count": 108,
   "metadata": {
    "vscode": {
     "languageId": "rust"
    }
   },
   "outputs": [
    {
     "name": "stdout",
     "output_type": "stream",
     "text": [
      "n is 10\n"
     ]
    }
   ],
   "source": [
    "result_complex_two();"
   ]
  }
 ],
 "metadata": {
  "kernelspec": {
   "display_name": "Rust",
   "language": "rust",
   "name": "rust"
  },
  "language_info": {
   "codemirror_mode": "rust",
   "file_extension": ".rs",
   "mimetype": "text/rust",
   "name": "Rust",
   "pygment_lexer": "rust",
   "version": ""
  },
  "orig_nbformat": 4
 },
 "nbformat": 4,
 "nbformat_minor": 2
}
