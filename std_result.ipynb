{
 "cells": [
  {
   "cell_type": "markdown",
   "metadata": {},
   "source": [
    "# working directory"
   ]
  },
  {
   "cell_type": "code",
   "execution_count": 71,
   "metadata": {
    "vscode": {
     "languageId": "rust"
    }
   },
   "outputs": [
    {
     "data": {
      "text/plain": [
       "\"/tmp/.tmp3USFB7\"\n"
      ]
     },
     "execution_count": 71,
     "metadata": {},
     "output_type": "execute_result"
    }
   ],
   "source": [
    ":last_compile_dir"
   ]
  },
  {
   "cell_type": "markdown",
   "metadata": {},
   "source": [
    "[tutorial Rust Error Handling](https://www.programiz.com/rust/error-handling)"
   ]
  },
  {
   "cell_type": "markdown",
   "metadata": {},
   "source": [
    "# [rust book result](https://doc.rust-lang.org/book/ch09-02-recoverable-errors-with-result.html)"
   ]
  },
  {
   "cell_type": "markdown",
   "metadata": {},
   "source": [
    "# [rust book stable error handling](https://doc.rust-lang.org/stable/book/ch09-00-error-handling.html)"
   ]
  },
  {
   "cell_type": "markdown",
   "metadata": {},
   "source": [
    "# create a new file\n",
    "\n",
    "- [FROM HERE](https://doc.rust-lang.org/std/fs/struct.File.html)"
   ]
  },
  {
   "cell_type": "code",
   "execution_count": 73,
   "metadata": {
    "vscode": {
     "languageId": "rust"
    }
   },
   "outputs": [],
   "source": [
    "use std::fs::File;\n",
    "use std::io::prelude::*;\n",
    "\n",
    "fn create_new_file() -> std::io::Result<()> {\n",
    "    let mut file = File::create(\"new_file.txt\")?;\n",
    "    file.write_all(b\"Hello new file, nice to see you!\")?;\n",
    "    Ok(())\n",
    "}"
   ]
  },
  {
   "cell_type": "code",
   "execution_count": 74,
   "metadata": {
    "vscode": {
     "languageId": "rust"
    }
   },
   "outputs": [],
   "source": [
    "create_new_file();"
   ]
  },
  {
   "cell_type": "markdown",
   "metadata": {},
   "source": [
    "# writing string to file inside a method with error handling"
   ]
  },
  {
   "cell_type": "code",
   "execution_count": 75,
   "metadata": {
    "vscode": {
     "languageId": "rust"
    }
   },
   "outputs": [],
   "source": [
    "fn write_string_to_file(var_string: &String) -> std::io::Result<()> {\n",
    "    let mut file = File::create(\"foo.txt\")?;\n",
    "    //convert from String to &[u8]\n",
    "    file.write_all(var_string.as_bytes())?;\n",
    "    Ok(())\n",
    "}"
   ]
  },
  {
   "cell_type": "code",
   "execution_count": 76,
   "metadata": {
    "vscode": {
     "languageId": "rust"
    }
   },
   "outputs": [],
   "source": [
    "fn call_write_string_to_file(var_string: &String) {\n",
    "    println!(\"{}\", &var_string);\n",
    "    write_string_to_file(&var_string);\n",
    "}"
   ]
  },
  {
   "cell_type": "code",
   "execution_count": 77,
   "metadata": {
    "vscode": {
     "languageId": "rust"
    }
   },
   "outputs": [
    {
     "name": "stdout",
     "output_type": "stream",
     "text": [
      "Hello my string inside new file!\n"
     ]
    }
   ],
   "source": [
    "use String;\n",
    "//inside main or another method\n",
    "let var_string:String = String::from(\"Hello my string inside a new file!\");\n",
    "call_write_string_to_file(&var_string);"
   ]
  },
  {
   "cell_type": "markdown",
   "metadata": {},
   "source": [
    "# read from file"
   ]
  },
  {
   "cell_type": "markdown",
   "metadata": {
    "vscode": {
     "languageId": "rust"
    }
   },
   "source": [
    "# [rust stable book](https://doc.rust-lang.org/stable/book/)"
   ]
  },
  {
   "cell_type": "markdown",
   "metadata": {},
   "source": [
    "- A function that returns errors to the calling code using match"
   ]
  },
  {
   "cell_type": "code",
   "execution_count": null,
   "metadata": {
    "vscode": {
     "languageId": "rust"
    }
   },
   "outputs": [],
   "source": [
    "use std::fs::File;\n",
    "use std::io::{self, Read};\n",
    "\n",
    "fn read_username_from_file() -> Result<String, io::Error> {\n",
    "    \n",
    "    let username_file_result = File::open(\"hello.txt\");\n",
    "\n",
    "    let mut username_file = match username_file_result {\n",
    "        Ok(file) => file,\n",
    "        Err(e) => return Err(e),\n",
    "    };\n",
    "\n",
    "    let mut username = String::new();\n",
    "\n",
    "    match username_file.read_to_string(&mut username) {\n",
    "        Ok(_) => Ok(username),\n",
    "        Err(e) => Err(e),\n",
    "    }\n",
    "}\n"
   ]
  },
  {
   "cell_type": "code",
   "execution_count": null,
   "metadata": {
    "vscode": {
     "languageId": "rust"
    }
   },
   "outputs": [],
   "source": [
    "fn call_read_username_from_file(){\n",
    "\n",
    "let result = read_username_from_file();\n",
    "match result{\n",
    "    Ok(user_name) => println!(\"{:?}\",user_name),\n",
    "    Err(e) => println!(\"Show err inside arm => {:?}\",e),\n",
    "\n",
    "}\n",
    "}"
   ]
  },
  {
   "cell_type": "code",
   "execution_count": null,
   "metadata": {
    "vscode": {
     "languageId": "rust"
    }
   },
   "outputs": [],
   "source": [
    "call_read_username_from_file();"
   ]
  },
  {
   "cell_type": "markdown",
   "metadata": {},
   "source": [
    "- The ? placed after a Result value is defined to work in almost the same way as the match expressions we defined to handle the Result values"
   ]
  },
  {
   "cell_type": "code",
   "execution_count": 64,
   "metadata": {
    "vscode": {
     "languageId": "rust"
    }
   },
   "outputs": [],
   "source": [
    "use std::io::{self, Read};\n",
    "\n",
    "fn read_username_from_file() -> Result<String, io::Error> {\n",
    "    let mut username_file = File::open(\"foo.txt\")?;\n",
    "    let mut username = String::new();\n",
    "    username_file.read_to_string(&mut username)?;\n",
    "    Ok(username)\n",
    "}"
   ]
  },
  {
   "cell_type": "code",
   "execution_count": 66,
   "metadata": {
    "vscode": {
     "languageId": "rust"
    }
   },
   "outputs": [],
   "source": [
    "call_read_username_from_file();"
   ]
  },
  {
   "cell_type": "markdown",
   "metadata": {},
   "source": [
    "# create a new file\n",
    "\n",
    "- [FROM HERE](https://doc.rust-lang.org/std/fs/struct.File.html)"
   ]
  },
  {
   "cell_type": "code",
   "execution_count": null,
   "metadata": {
    "vscode": {
     "languageId": "rust"
    }
   },
   "outputs": [],
   "source": [
    "use std::fs::File;\n",
    "use std::io::prelude::*;\n",
    "\n",
    "fn create_new_file() -> std::io::Result<()> {\n",
    "    let mut file = File::create(\"foo.txt\")?;\n",
    "    file.write_all(b\"Hello, world!\")?;\n",
    "    Ok(())\n",
    "}"
   ]
  },
  {
   "cell_type": "code",
   "execution_count": null,
   "metadata": {
    "vscode": {
     "languageId": "rust"
    }
   },
   "outputs": [],
   "source": [
    "create_new_file();"
   ]
  },
  {
   "cell_type": "markdown",
   "metadata": {},
   "source": [
    "- write a file"
   ]
  },
  {
   "cell_type": "code",
   "execution_count": null,
   "metadata": {
    "vscode": {
     "languageId": "rust"
    }
   },
   "outputs": [],
   "source": [
    "use std::fs::File;\n",
    "\n",
    "fn create_data_txt_file() {\n",
    "    // Open a file in read only mode in the local file system\n",
    "    let data_result = File::open(\"bar.txt\");\n",
    "\n",
    "    // Reading a file returns a Result enum\n",
    "    // Result can be a file or an error\n",
    "    let data_file = match data_result {\n",
    "        Ok(file) => file,\n",
    "        Err(error) => panic!(\"Problem opening the data file: {:?}\", error),\n",
    "    };\n",
    "\n",
    "    println!(\"Data file: {:?}\", data_file);\n",
    "}"
   ]
  },
  {
   "cell_type": "code",
   "execution_count": null,
   "metadata": {
    "vscode": {
     "languageId": "rust"
    }
   },
   "outputs": [],
   "source": [
    "create_data_txt_file();"
   ]
  },
  {
   "cell_type": "markdown",
   "metadata": {},
   "source": [
    "- [write to file tutorial](https://www.programiz.com/rust/file-handling)"
   ]
  },
  {
   "cell_type": "code",
   "execution_count": 58,
   "metadata": {
    "vscode": {
     "languageId": "rust"
    }
   },
   "outputs": [],
   "source": [
    "fn write_string_to_file(var_string: &String) -> std::io::Result<()> {\n",
    "    let mut file = File::create(\"foo.txt\")?;\n",
    "    //convert from String to &[u8]\n",
    "    file.write_all(var_string.as_bytes())?;\n",
    "    Ok(())\n",
    "}\n"
   ]
  },
  {
   "cell_type": "code",
   "execution_count": 59,
   "metadata": {
    "vscode": {
     "languageId": "rust"
    }
   },
   "outputs": [],
   "source": [
    "fn call_write_string_to_file(var_string: &String) {\n",
    "    println!(\"{}\", &var_string);\n",
    "    write_string_to_file(&var_string);\n",
    "}\n"
   ]
  },
  {
   "cell_type": "code",
   "execution_count": 62,
   "metadata": {
    "vscode": {
     "languageId": "rust"
    }
   },
   "outputs": [
    {
     "name": "stdout",
     "output_type": "stream",
     "text": [
      "Hello my string inside new file!\n"
     ]
    }
   ],
   "source": [
    "use String;\n",
    "\n",
    "let var_string:String = String::from(\"Hello my string inside new file!\");\n",
    "call_write_string_to_file(&var_string);"
   ]
  }
 ],
 "metadata": {
  "kernelspec": {
   "display_name": "Rust",
   "language": "rust",
   "name": "rust"
  },
  "language_info": {
   "codemirror_mode": "rust",
   "file_extension": ".rs",
   "mimetype": "text/rust",
   "name": "Rust",
   "pygment_lexer": "rust",
   "version": ""
  },
  "orig_nbformat": 4
 },
 "nbformat": 4,
 "nbformat_minor": 2
}
