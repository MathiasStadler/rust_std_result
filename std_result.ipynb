{
 "cells": [
  {
   "cell_type": "markdown",
   "metadata": {},
   "source": [
    "# rust version"
   ]
  },
  {
   "cell_type": "code",
   "execution_count": 97,
   "metadata": {
    "vscode": {
     "languageId": "rust"
    }
   },
   "outputs": [
    {
     "ename": "Error",
     "evalue": "Unrecognised command :version\t",
     "output_type": "error",
     "traceback": [
      "\u001b[31mError:\u001b[0m Unrecognised command :version\t"
     ]
    }
   ],
   "source": [
    "//:help\n",
    "//:version\t\n",
    "//:toolchain"
   ]
  },
  {
   "cell_type": "markdown",
   "metadata": {},
   "source": [
    "# working directory"
   ]
  },
  {
   "cell_type": "code",
   "execution_count": 98,
   "metadata": {
    "vscode": {
     "languageId": "rust"
    }
   },
   "outputs": [
    {
     "data": {
      "text/plain": [
       "\"/tmp/.tmpmmtJ5H\"\n"
      ]
     },
     "execution_count": 98,
     "metadata": {},
     "output_type": "execute_result"
    }
   ],
   "source": [
    "//:help\n",
    ":last_compile_dir"
   ]
  },
  {
   "cell_type": "markdown",
   "metadata": {},
   "source": [
    "[FROM HERE](https://www.programiz.com/rust/error-handling)"
   ]
  },
  {
   "cell_type": "markdown",
   "metadata": {},
   "source": [
    "- Example 1: Rust Unrecoverable Errors with panic! Macro\n",
    "- - should create a panic message"
   ]
  },
  {
   "cell_type": "code",
   "execution_count": null,
   "metadata": {
    "vscode": {
     "languageId": "rust"
    }
   },
   "outputs": [],
   "source": [
    "fn main_one() {\n",
    "    println!(\"Hello, World!\");\n",
    "\n",
    "    // Explicitly exit the program with an unrecoverable error\n",
    "    panic!(\"!!! Crash message inside main_one fn !!!\");\n",
    "}"
   ]
  },
  {
   "cell_type": "code",
   "execution_count": 109,
   "metadata": {
    "vscode": {
     "languageId": "rust"
    }
   },
   "outputs": [
    {
     "name": "stdout",
     "output_type": "stream",
     "text": [
      "Hello, World!\n"
     ]
    },
    {
     "name": "stderr",
     "output_type": "stream",
     "text": [
      "thread '<unnamed>' panicked at '!!! Crash message inside main_one fn !!!', src/lib.rs:126:5\n",
      "stack backtrace:\n",
      "   0: rust_begin_unwind\n",
      "             at /rustc/5680fa18feaa87f3ff04063800aec256c3d4b4be/library/std/src/panicking.rs:593:5\n",
      "   1: core::panicking::panic_fmt\n",
      "             at /rustc/5680fa18feaa87f3ff04063800aec256c3d4b4be/library/core/src/panicking.rs:67:14\n",
      "   2: <unknown>\n",
      "   3: <unknown>\n",
      "   4: evcxr::runtime::Runtime::run_loop\n",
      "   5: evcxr::runtime::runtime_hook\n",
      "   6: evcxr_jupyter::main\n",
      "note: Some details are omitted, run with `RUST_BACKTRACE=full` for a verbose backtrace.\n"
     ]
    }
   ],
   "source": [
    "main_one();"
   ]
  },
  {
   "cell_type": "markdown",
   "metadata": {},
   "source": [
    "  - Example 2: Rust Unrecoverable Errors \n",
    "    - the has 3 values start by 0 and we call the 4 // numbers[3]"
   ]
  },
  {
   "cell_type": "code",
   "execution_count": 110,
   "metadata": {
    "vscode": {
     "languageId": "rust"
    }
   },
   "outputs": [
    {
     "ename": "Error",
     "evalue": "unused variable: `greeting_file`",
     "output_type": "error",
     "traceback": [
      "\u001b[31m[unused_variables] Error:\u001b[0m unused variable: `greeting_file`"
     ]
    },
    {
     "ename": "Error",
     "evalue": "unused variable: `error`",
     "output_type": "error",
     "traceback": [
      "\u001b[31m[unused_variables] Error:\u001b[0m unused variable: `error`"
     ]
    },
    {
     "ename": "Error",
     "evalue": "unused variable: `greeting_file`",
     "output_type": "error",
     "traceback": [
      "\u001b[31m[unused_variables] Error:\u001b[0m unused variable: `greeting_file`"
     ]
    },
    {
     "ename": "Error",
     "evalue": "unused variable: `greeting_file`",
     "output_type": "error",
     "traceback": [
      "\u001b[31m[unused_variables] Error:\u001b[0m unused variable: `greeting_file`"
     ]
    },
    {
     "ename": "Error",
     "evalue": "unused variable: `second_number_str`",
     "output_type": "error",
     "traceback": [
      "\u001b[31m[unused_variables] Error:\u001b[0m unused variable: `second_number_str`"
     ]
    },
    {
     "ename": "Error",
     "evalue": "this operation will panic at runtime",
     "output_type": "error",
     "traceback": [
      "\u001b[31m[unconditional_panic] Error:\u001b[0m this operation will panic at runtime",
      "   \u001b[38;5;246m╭\u001b[0m\u001b[38;5;246m─\u001b[0m\u001b[38;5;246m[\u001b[0mcommand_110:1:1\u001b[38;5;246m]\u001b[0m",
      "   \u001b[38;5;246m│\u001b[0m",
      " \u001b[38;5;246m4 │\u001b[0m \u001b[38;5;249m \u001b[0m\u001b[38;5;249m \u001b[0m\u001b[38;5;249m \u001b[0m\u001b[38;5;249m \u001b[0m\u001b[38;5;249mp\u001b[0m\u001b[38;5;249mr\u001b[0m\u001b[38;5;249mi\u001b[0m\u001b[38;5;249mn\u001b[0m\u001b[38;5;249mt\u001b[0m\u001b[38;5;249ml\u001b[0m\u001b[38;5;249mn\u001b[0m\u001b[38;5;249m!\u001b[0m\u001b[38;5;249m(\u001b[0m\u001b[38;5;249m\"\u001b[0m\u001b[38;5;249mu\u001b[0m\u001b[38;5;249mn\u001b[0m\u001b[38;5;249mk\u001b[0m\u001b[38;5;249mn\u001b[0m\u001b[38;5;249mo\u001b[0m\u001b[38;5;249mw\u001b[0m\u001b[38;5;249mn\u001b[0m\u001b[38;5;249m \u001b[0m\u001b[38;5;249mi\u001b[0m\u001b[38;5;249mn\u001b[0m\u001b[38;5;249md\u001b[0m\u001b[38;5;249me\u001b[0m\u001b[38;5;249mx\u001b[0m\u001b[38;5;249m \u001b[0m\u001b[38;5;249mv\u001b[0m\u001b[38;5;249ma\u001b[0m\u001b[38;5;249ml\u001b[0m\u001b[38;5;249mu\u001b[0m\u001b[38;5;249me\u001b[0m\u001b[38;5;249m \u001b[0m\u001b[38;5;249m=\u001b[0m\u001b[38;5;249m \u001b[0m\u001b[38;5;249m{\u001b[0m\u001b[38;5;249m}\u001b[0m\u001b[38;5;249m\"\u001b[0m\u001b[38;5;249m,\u001b[0m\u001b[38;5;249m \u001b[0m\u001b[38;5;54mn\u001b[0m\u001b[38;5;54mu\u001b[0m\u001b[38;5;54mm\u001b[0m\u001b[38;5;54mb\u001b[0m\u001b[38;5;54me\u001b[0m\u001b[38;5;54mr\u001b[0m\u001b[38;5;54ms\u001b[0m\u001b[38;5;54m[\u001b[0m\u001b[38;5;54m3\u001b[0m\u001b[38;5;54m]\u001b[0m\u001b[38;5;249m)\u001b[0m\u001b[38;5;249m;\u001b[0m",
      " \u001b[38;5;240m  │\u001b[0m                                          \u001b[38;5;54m─\u001b[0m\u001b[38;5;54m─\u001b[0m\u001b[38;5;54m─\u001b[0m\u001b[38;5;54m─\u001b[0m\u001b[38;5;54m─\u001b[0m\u001b[38;5;54m┬\u001b[0m\u001b[38;5;54m─\u001b[0m\u001b[38;5;54m─\u001b[0m\u001b[38;5;54m─\u001b[0m\u001b[38;5;54m─\u001b[0m  ",
      " \u001b[38;5;240m  │\u001b[0m                                               \u001b[38;5;54m╰\u001b[0m\u001b[38;5;54m─\u001b[0m\u001b[38;5;54m─\u001b[0m\u001b[38;5;54m─\u001b[0m\u001b[38;5;54m─\u001b[0m\u001b[38;5;54m─\u001b[0m\u001b[38;5;54m─\u001b[0m index out of bounds: the length is 3 but the index is 3",
      "\u001b[38;5;246m───╯\u001b[0m"
     ]
    },
    {
     "ename": "Error",
     "evalue": "function `call__greeting_file_result` should have a snake case name",
     "output_type": "error",
     "traceback": [
      "\u001b[31m[non_snake_case] Error:\u001b[0m function `call__greeting_file_result` should have a snake case name"
     ]
    }
   ],
   "source": [
    "fn main_two() {\n",
    "    let numbers = [1, 2 ,3];\n",
    "\n",
    "    println!(\"unknown index value = {}\", numbers[3]);\n",
    "}"
   ]
  },
  {
   "cell_type": "markdown",
   "metadata": {},
   "source": [
    "- Recoverable Errors\n",
    "  - Recoverable errors are errors that won't stop a program from executing. Most errors are recoverable, and we can easily take action based on the type of error."
   ]
  },
  {
   "cell_type": "markdown",
   "metadata": {},
   "source": [
    "[FROM HERE](https://doc.rust-lang.org/std/fs/struct.File.html)"
   ]
  },
  {
   "cell_type": "markdown",
   "metadata": {},
   "source": [
    "- The Option Enum\n",
    "\n",
    "    - The Option type or Option<T> type is an enum type just like Result with two possible variants.\n",
    "\n",
    "    - None → to indicate failure with no value\n",
    "    - Some(T) → a value with type T\n"
   ]
  },
  {
   "cell_type": "markdown",
   "metadata": {},
   "source": [
    "- test Some"
   ]
  },
  {
   "cell_type": "code",
   "execution_count": 111,
   "metadata": {
    "vscode": {
     "languageId": "rust"
    }
   },
   "outputs": [],
   "source": [
    "fn main_found_char() {\n",
    "    let text = \"Hello, World!\";\n",
    "    \n",
    "    let index:usize =7;\n",
    "    let character_option = text.chars().nth(index);\n",
    "    \n",
    "    // using match for Option type\n",
    "    let character = match character_option {\n",
    "        None => \"empty\".to_string(),\n",
    "        Some(c) => c.to_string()\n",
    "    };\n",
    "\n",
    "    \n",
    "    println!(\"Character at index {} is {}\", index,character);\n",
    "}"
   ]
  },
  {
   "cell_type": "code",
   "execution_count": 112,
   "metadata": {
    "vscode": {
     "languageId": "rust"
    }
   },
   "outputs": [
    {
     "name": "stdout",
     "output_type": "stream",
     "text": [
      "Character at index 7 is W\n"
     ]
    }
   ],
   "source": [
    "main_found_char();"
   ]
  },
  {
   "cell_type": "markdown",
   "metadata": {},
   "source": [
    "- test None"
   ]
  },
  {
   "cell_type": "code",
   "execution_count": 114,
   "metadata": {
    "vscode": {
     "languageId": "rust"
    }
   },
   "outputs": [],
   "source": [
    "fn main_not_found_char() {\n",
    "    let text = \"Hello, World!\";\n",
    "    \n",
    "    let index:usize =100;\n",
    "    let character_option = text.chars().nth(index);\n",
    "    \n",
    "    // using match for Option type\n",
    "    let character = match character_option {\n",
    "        None => \"empty\".to_string(),\n",
    "        Some(c) => c.to_string()\n",
    "    };\n",
    "\n",
    "    \n",
    "    println!(\"Character at index {} is {}\", index,character);\n",
    "}"
   ]
  },
  {
   "cell_type": "code",
   "execution_count": 115,
   "metadata": {
    "vscode": {
     "languageId": "rust"
    }
   },
   "outputs": [
    {
     "name": "stdout",
     "output_type": "stream",
     "text": [
      "Character at index 100 is empty\n"
     ]
    }
   ],
   "source": [
    "main_not_found_char();"
   ]
  },
  {
   "cell_type": "markdown",
   "metadata": {},
   "source": [
    "[FROM HERE](https://doc.rust-lang.org/rust-by-example/error/result.html)"
   ]
  },
  {
   "cell_type": "code",
   "execution_count": null,
   "metadata": {
    "vscode": {
     "languageId": "rust"
    }
   },
   "outputs": [],
   "source": [
    "use std::num::ParseIntError;\n",
    "\n",
    "fn main_a() -> Result<(), ParseIntError> {\n",
    "    let number_str = \"10\";\n",
    "    let number = match number_str.parse::<i32>() {\n",
    "        Ok(number)  => number,\n",
    "        Err(e) => return Err(e),\n",
    "    };\n",
    "    println!(\"{}\", number);\n",
    "    Ok(())\n",
    "}"
   ]
  },
  {
   "cell_type": "code",
   "execution_count": null,
   "metadata": {
    "vscode": {
     "languageId": "rust"
    }
   },
   "outputs": [],
   "source": [
    "main_a();"
   ]
  },
  {
   "cell_type": "code",
   "execution_count": null,
   "metadata": {
    "vscode": {
     "languageId": "rust"
    }
   },
   "outputs": [],
   "source": [
    "use std::num::ParseIntError;\n",
    "\n",
    "fn main_b() -> Result<(), ParseIntError> {\n",
    "    let number_str = \"10\";\n",
    "    let result = number_str.parse::<i32>();\n",
    "    let number = match result {\n",
    "        Ok(number)  => number,\n",
    "        Err(e) => return Err(e),\n",
    "    };\n",
    "    println!(\"{}\", number);\n",
    "    Ok(())\n",
    "}"
   ]
  },
  {
   "cell_type": "code",
   "execution_count": null,
   "metadata": {
    "vscode": {
     "languageId": "rust"
    }
   },
   "outputs": [],
   "source": [
    "main_b();"
   ]
  },
  {
   "cell_type": "markdown",
   "metadata": {},
   "source": [
    "- result inside method"
   ]
  },
  {
   "cell_type": "markdown",
   "metadata": {},
   "source": [
    "[FROM HERE](https://doc.rust-lang.org/rust-by-example/error/result/result_map.html)"
   ]
  },
  {
   "cell_type": "code",
   "execution_count": 116,
   "metadata": {
    "vscode": {
     "languageId": "rust"
    }
   },
   "outputs": [],
   "source": [
    "use std::num::ParseIntError;\n",
    "\n",
    "// With the return type rewritten, we use pattern matching without `unwrap()`.\n",
    "fn multiply(first_number_str: &str, second_number_str: &str) -> Result<i32, ParseIntError> {\n",
    "    match first_number_str.parse::<i32>() {\n",
    "        Ok(first_number) => match second_number_str.parse::<i32>() {\n",
    "            Ok(second_number) => Ok(first_number * second_number),\n",
    "            Err(e) => Err(e),\n",
    "        },\n",
    "        Err(e) => Err(e),\n",
    "    }\n",
    "}\n",
    "\n",
    "fn print(result: Result<i32, ParseIntError>) {\n",
    "    match result {\n",
    "        Ok(n) => println!(\"n is {}\", n),\n",
    "        Err(e) => println!(\"Error: {}\", e),\n",
    "    }\n",
    "}\n",
    "\n",
    "fn result_complex_one() {\n",
    "    // This still presents a reasonable answer.\n",
    "    let twenty = multiply(\"10\", \"3\");\n",
    "    print(twenty);\n",
    "\n",
    "    // The following now provides a much more helpful error message.\n",
    "    let tt = multiply(\"t\", \"2\");\n",
    "    print(tt);\n",
    "}\n"
   ]
  },
  {
   "cell_type": "code",
   "execution_count": 117,
   "metadata": {
    "vscode": {
     "languageId": "rust"
    }
   },
   "outputs": [
    {
     "name": "stdout",
     "output_type": "stream",
     "text": [
      "n is 30\n",
      "Error: invalid digit found in string\n"
     ]
    }
   ],
   "source": [
    "result_complex_one();"
   ]
  },
  {
   "cell_type": "code",
   "execution_count": null,
   "metadata": {
    "vscode": {
     "languageId": "rust"
    }
   },
   "outputs": [],
   "source": []
  },
  {
   "cell_type": "markdown",
   "metadata": {},
   "source": [
    "simplify fn only with one var, only with one error enum"
   ]
  },
  {
   "cell_type": "code",
   "execution_count": 135,
   "metadata": {
    "vscode": {
     "languageId": "rust"
    }
   },
   "outputs": [],
   "source": [
    "use std::num::ParseIntError;\n",
    "use std::any::type_name;\n",
    "\n",
    "// FROM HERE\n",
    "// https://www.hackertouch.com/how-to-print-type-of-variable-in-rust.html\n",
    "/*fn type_of(_: &T) -> &'static str {\n",
    "    type_name::()\n",
    "}\n",
    "*/\n",
    "\n",
    "\n",
    "// With the return type rewritten, we use pattern matching without `unwrap()`.\n",
    "fn parse_str_to_int(first_number_str: &str) -> Result<i32, ParseIntError> {\n",
    "    \n",
    "    let result = first_number_str.parse::<i32>();\n",
    "    match result  {\n",
    "            Ok(first_number) => Ok(first_number),\n",
    "            Err(e) => Err(e),\n",
    "        }\n",
    "}\n",
    "\n",
    "fn print(result: Result<i32, ParseIntError>) {\n",
    "    match result {\n",
    "        Ok(n) => println!(\"n is {}\", n),\n",
    "        Err(e) => println!(\"Error: {}\", e),\n",
    "    }\n",
    "}\n",
    "\n",
    "// can be main() function\n",
    "fn result_complex_two() {\n",
    "\n",
    "    \n",
    "    // This still presents a reasonable answer.\n",
    "    let int_var = parse_str_to_int(\"10\");\n",
    "    \n",
    "    print(int_var);\n",
    "\n",
    "    \n",
    "}\n"
   ]
  },
  {
   "cell_type": "code",
   "execution_count": 136,
   "metadata": {
    "vscode": {
     "languageId": "rust"
    }
   },
   "outputs": [
    {
     "name": "stdout",
     "output_type": "stream",
     "text": [
      "n is 10\n"
     ]
    }
   ],
   "source": [
    "result_complex_two();"
   ]
  },
  {
   "cell_type": "code",
   "execution_count": null,
   "metadata": {
    "vscode": {
     "languageId": "rust"
    }
   },
   "outputs": [],
   "source": []
  },
  {
   "cell_type": "code",
   "execution_count": 138,
   "metadata": {
    "vscode": {
     "languageId": "rust"
    }
   },
   "outputs": [],
   "source": [
    "use std::num::ParseIntError;\n",
    "use std::any::type_name;\n",
    "\n",
    "// FROM HERE\n",
    "// https://www.hackertouch.com/how-to-print-type-of-variable-in-rust.html\n",
    "/*fn type_of(_: &T) -> &'static str {\n",
    "    type_name::()\n",
    "}\n",
    "*/\n",
    "\n",
    "fn work_func(first_number_str: &str) -> Result<i32, ParseIntError> {\n",
    "    let result = first_number_str.parse::<i32>();\n",
    "    result\n",
    "}\n",
    "\n",
    "// With the return type rewritten, we use pattern matching without `unwrap()`.\n",
    "fn parse_str_to_int(first_number_str: &str) -> Result<i32, ParseIntError> {\n",
    "    \n",
    "    let result = first_number_str.parse::<i32>();\n",
    "    match result  {\n",
    "            Ok(first_number) => Ok(first_number),\n",
    "            Err(e) => Err(e),\n",
    "        }\n",
    "}\n",
    "\n",
    "fn print(result: Result<i32, ParseIntError>) {\n",
    "    match result {\n",
    "        Ok(n) => println!(\"n is {}\", n),\n",
    "        Err(e) => println!(\"Error: {}\", e),\n",
    "    }\n",
    "}\n",
    "\n",
    "// can be main() function\n",
    "fn result_complex_three() {\n",
    "\n",
    "    \n",
    "    // This still presents a reasonable answer.\n",
    "    let int_var = parse_str_to_int(\"10\");\n",
    "    \n",
    "    print(int_var);\n",
    "\n",
    "    \n",
    "}\n"
   ]
  },
  {
   "cell_type": "code",
   "execution_count": 139,
   "metadata": {
    "vscode": {
     "languageId": "rust"
    }
   },
   "outputs": [
    {
     "name": "stdout",
     "output_type": "stream",
     "text": [
      "n is 10\n"
     ]
    }
   ],
   "source": [
    "result_complex_three();"
   ]
  }
 ],
 "metadata": {
  "kernelspec": {
   "display_name": "Rust",
   "language": "rust",
   "name": "rust"
  },
  "language_info": {
   "codemirror_mode": "rust",
   "file_extension": ".rs",
   "mimetype": "text/rust",
   "name": "Rust",
   "pygment_lexer": "rust",
   "version": ""
  },
  "orig_nbformat": 4
 },
 "nbformat": 4,
 "nbformat_minor": 2
}
