{
 "cells": [
  {
   "cell_type": "markdown",
   "metadata": {},
   "source": [
    "# working directory"
   ]
  },
  {
   "cell_type": "code",
   "execution_count": null,
   "metadata": {
    "vscode": {
     "languageId": "rust"
    }
   },
   "outputs": [],
   "source": [
    ":last_compile_dir"
   ]
  },
  {
   "cell_type": "markdown",
   "metadata": {},
   "source": [
    "[tutorial Rust Error Handling](https://www.programiz.com/rust/error-handling)"
   ]
  },
  {
   "cell_type": "markdown",
   "metadata": {},
   "source": [
    "# [rust book result](https://doc.rust-lang.org/book/ch09-02-recoverable-errors-with-result.html)"
   ]
  },
  {
   "cell_type": "markdown",
   "metadata": {},
   "source": [
    "# [rust book stable error handling](https://doc.rust-lang.org/stable/book/ch09-00-error-handling.html)"
   ]
  },
  {
   "cell_type": "markdown",
   "metadata": {},
   "source": [
    "# create a new file\n",
    "\n",
    "- [FROM HERE](https://doc.rust-lang.org/std/fs/struct.File.html)"
   ]
  },
  {
   "cell_type": "code",
   "execution_count": null,
   "metadata": {
    "vscode": {
     "languageId": "rust"
    }
   },
   "outputs": [],
   "source": [
    "use std::fs::File;\n",
    "use std::io::prelude::*;\n",
    "\n",
    "fn create_new_file() -> std::io::Result<()> {\n",
    "    let mut file = File::create(\"new_file.txt\")?;\n",
    "    file.write_all(b\"Hello new file, nice to see you!\")?;\n",
    "    Ok(())\n",
    "}"
   ]
  },
  {
   "cell_type": "code",
   "execution_count": null,
   "metadata": {
    "vscode": {
     "languageId": "rust"
    }
   },
   "outputs": [],
   "source": [
    "create_new_file();"
   ]
  },
  {
   "cell_type": "markdown",
   "metadata": {},
   "source": [
    "# writing string to file inside a method with error handling"
   ]
  },
  {
   "cell_type": "code",
   "execution_count": null,
   "metadata": {
    "vscode": {
     "languageId": "rust"
    }
   },
   "outputs": [],
   "source": [
    "fn write_string_to_file(var_string: &String) -> std::io::Result<()> {\n",
    "    let mut file = File::create(\"file_with_string.txt\")?;\n",
    "    //convert from String to &[u8]\n",
    "    file.write_all(var_string.as_bytes())?;\n",
    "    Ok(())\n",
    "}"
   ]
  },
  {
   "cell_type": "code",
   "execution_count": null,
   "metadata": {
    "vscode": {
     "languageId": "rust"
    }
   },
   "outputs": [],
   "source": [
    "fn call_write_string_to_file(var_string: &String) {\n",
    "    println!(\"{}\", &var_string);\n",
    "    write_string_to_file(&var_string);\n",
    "}"
   ]
  },
  {
   "cell_type": "code",
   "execution_count": null,
   "metadata": {
    "vscode": {
     "languageId": "rust"
    }
   },
   "outputs": [],
   "source": [
    "use String;\n",
    "//inside main or another method\n",
    "let var_string:String = String::from(\"Hello my string inside a new file!\");\n",
    "call_write_string_to_file(&var_string);"
   ]
  },
  {
   "cell_type": "markdown",
   "metadata": {},
   "source": [
    "- with filename and string"
   ]
  },
  {
   "cell_type": "code",
   "execution_count": null,
   "metadata": {
    "vscode": {
     "languageId": "rust"
    }
   },
   "outputs": [],
   "source": [
    "fn write_string_to_filename(file_name: &String,var_string: &String) \n",
    "-> std::io::Result<()> {\n",
    "    let mut file = File::create(&file_name)?;\n",
    "    //convert from String to &[u8]\n",
    "    file.write_all(var_string.as_bytes())?;\n",
    "    Ok(())\n",
    "}"
   ]
  },
  {
   "cell_type": "code",
   "execution_count": null,
   "metadata": {
    "vscode": {
     "languageId": "rust"
    }
   },
   "outputs": [],
   "source": [
    "fn call_write_string_to_filename(file_name: &String, var_string: &String) {\n",
    "    println!(\"file_name      => {}\", &file_name);\n",
    "    println!(\"string to file => {}\", &var_string);\n",
    "    write_string_to_filename(&file_name,&var_string);\n",
    "}\n"
   ]
  },
  {
   "cell_type": "code",
   "execution_count": null,
   "metadata": {
    "vscode": {
     "languageId": "rust"
    }
   },
   "outputs": [],
   "source": [
    "use String;\n",
    "//inside main or another method\n",
    "let file_name:String = String::from(\"file_name_and_string.txt\");\n",
    "let var_string:String = String::from(\"Hello my string inside a new file!\");\n",
    "call_write_string_to_filename(&file_name,&var_string);"
   ]
  },
  {
   "cell_type": "markdown",
   "metadata": {},
   "source": [
    "# read from file"
   ]
  },
  {
   "cell_type": "markdown",
   "metadata": {
    "vscode": {
     "languageId": "rust"
    }
   },
   "source": [
    "# [rust stable book](https://doc.rust-lang.org/stable/book/)"
   ]
  },
  {
   "cell_type": "markdown",
   "metadata": {},
   "source": [
    "- A function that returns errors to the calling code using match"
   ]
  },
  {
   "cell_type": "code",
   "execution_count": 18,
   "metadata": {
    "vscode": {
     "languageId": "rust"
    }
   },
   "outputs": [],
   "source": [
    "use std::fs::File;\n",
    "use std::io::{self, Read};\n",
    "\n",
    "fn read_string_from_file() -> Result<String, io::Error> {\n",
    "    \n",
    "    let file_result = File::open(\"file_with_string.txt\");\n",
    "\n",
    "    let mut file = match file_result {\n",
    "        Ok(file) => file,\n",
    "        Err(e) => return Err(e),\n",
    "    };\n",
    "\n",
    "    let mut username = String::new();\n",
    "\n",
    "    match file.read_to_string(&mut username) {\n",
    "        Ok(_) => Ok(username),\n",
    "        Err(e) => Err(e),\n",
    "    }\n",
    "}\n"
   ]
  },
  {
   "cell_type": "code",
   "execution_count": null,
   "metadata": {
    "vscode": {
     "languageId": "rust"
    }
   },
   "outputs": [],
   "source": [
    "fn call_read_string_from_file(){\n",
    "\n",
    "let result = read_string_from_file();\n",
    "match result{\n",
    "    Ok(string) => println!(\"Get the string from file => {:?}\",string),\n",
    "    Err(e) => println!(\"List ERROR inside arm => {:?}\",e),\n",
    "\n",
    "}\n",
    "}"
   ]
  },
  {
   "cell_type": "code",
   "execution_count": null,
   "metadata": {
    "vscode": {
     "languageId": "rust"
    }
   },
   "outputs": [],
   "source": [
    "call_read_string_from_file();"
   ]
  },
  {
   "cell_type": "markdown",
   "metadata": {},
   "source": [
    "# read string from file with name"
   ]
  },
  {
   "cell_type": "code",
   "execution_count": 21,
   "metadata": {
    "vscode": {
     "languageId": "rust"
    }
   },
   "outputs": [],
   "source": [
    "use std::fs::File;\n",
    "use std::io::{self, Read};\n",
    "\n",
    "fn read_string_from_file_name(file_name: &String) -> Result<String, io::Error> {\n",
    "    \n",
    "    let file_result = File::open(file_name);\n",
    "\n",
    "    let mut file = match file_result {\n",
    "        Ok(file) => file,\n",
    "        Err(e) => return Err(e),\n",
    "    };\n",
    "\n",
    "    let mut username = String::new();\n",
    "\n",
    "    match file.read_to_string(&mut username) {\n",
    "        Ok(_) => Ok(username),\n",
    "        Err(e) => Err(e),\n",
    "    }\n",
    "}\n"
   ]
  },
  {
   "cell_type": "code",
   "execution_count": 22,
   "metadata": {
    "vscode": {
     "languageId": "rust"
    }
   },
   "outputs": [],
   "source": [
    "fn call_read_string_from_file_name(file_name:&String){\n",
    "\n",
    "    let result = read_string_from_file_name(&file_name);\n",
    "    match result{\n",
    "        Ok(string) => println!(\"Get the string from file => {:?}\",string),\n",
    "        Err(e) => println!(\"List ERROR inside arm => {:?}\",e),\n",
    "    \n",
    "    }\n",
    "    }"
   ]
  },
  {
   "cell_type": "code",
   "execution_count": 26,
   "metadata": {
    "vscode": {
     "languageId": "rust"
    }
   },
   "outputs": [
    {
     "name": "stdout",
     "output_type": "stream",
     "text": [
      "Get the string from file => \"Hello my string inside a new file!\"\n"
     ]
    }
   ],
   "source": [
    "let file_name_string = String::from(\"file_with_string.txt\");\n",
    "call_read_string_from_file_name(&file_name_string);"
   ]
  },
  {
   "cell_type": "markdown",
   "metadata": {},
   "source": [
    "- The ? placed after a Result value is defined to work in almost the same way as the match expressions we defined to handle the Result values"
   ]
  },
  {
   "cell_type": "code",
   "execution_count": null,
   "metadata": {
    "vscode": {
     "languageId": "rust"
    }
   },
   "outputs": [],
   "source": [
    "use std::io::{self, Read};\n",
    "\n",
    "fn read_string_from_file() -> Result<String, io::Error> {\n",
    "    let mut username_file = File::open(\"foo.txt\")?;\n",
    "    let mut username = String::new();\n",
    "    username_file.read_to_string(&mut username)?;\n",
    "    Ok(username)\n",
    "}"
   ]
  },
  {
   "cell_type": "code",
   "execution_count": null,
   "metadata": {
    "vscode": {
     "languageId": "rust"
    }
   },
   "outputs": [],
   "source": [
    "call_read_string_from_file();"
   ]
  }
 ],
 "metadata": {
  "kernelspec": {
   "display_name": "Rust",
   "language": "rust",
   "name": "rust"
  },
  "language_info": {
   "codemirror_mode": "rust",
   "file_extension": ".rs",
   "mimetype": "text/rust",
   "name": "Rust",
   "pygment_lexer": "rust",
   "version": ""
  },
  "orig_nbformat": 4
 },
 "nbformat": 4,
 "nbformat_minor": 2
}
