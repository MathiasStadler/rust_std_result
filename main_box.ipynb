{
 "cells": [
  {
   "cell_type": "markdown",
   "metadata": {},
   "source": [
    "[Nicer error reporting tutorial](https://rust-cli.github.io/book/tutorial/errors.html)"
   ]
  },
  {
   "cell_type": "code",
   "execution_count": 2,
   "metadata": {},
   "outputs": [],
   "source": [
    "#![allow(unused)]\n",
    "fn main() {\n",
    "let result = std::fs::read_to_string(\"test.txt\");\n",
    "match result {\n",
    "    Ok(content) => { println!(\"File content: {}\", content); }\n",
    "    Err(error) => { println!(\"Oh noes: {}\", error); }\n",
    "}\n",
    "}"
   ]
  },
  {
   "cell_type": "code",
   "execution_count": 3,
   "metadata": {},
   "outputs": [
    {
     "name": "stdout",
     "output_type": "stream",
     "text": [
      "Oh noes: No such file or directory (os error 2)\n"
     ]
    }
   ],
   "source": [
    "main();"
   ]
  },
  {
   "cell_type": "markdown",
   "metadata": {},
   "source": [
    "- with use fn main() -> Result<(), Box<dyn std::error::Error>> {"
   ]
  },
  {
   "cell_type": "code",
   "execution_count": null,
   "metadata": {},
   "outputs": [],
   "source": [
    "fn main_box_one() -> Result<(), Box<dyn std::error::Error>> {\n",
    "    let result = std::fs::read_to_string(\"test.txt\");\n",
    "    let content = match result {\n",
    "        Ok(content) => { content },\n",
    "        Err(error) => { return Err(error.into()); }\n",
    "    };\n",
    "    Ok(())\n",
    "    }"
   ]
  },
  {
   "cell_type": "code",
   "execution_count": null,
   "metadata": {},
   "outputs": [],
   "source": [
    "main_box_one();"
   ]
  }
 ],
 "metadata": {
  "kernelspec": {
   "display_name": "Rust",
   "language": "rust",
   "name": "rust"
  },
  "language_info": {
   "codemirror_mode": "rust",
   "file_extension": ".rs",
   "mimetype": "text/rust",
   "name": "rust",
   "pygment_lexer": "rust",
   "version": ""
  },
  "orig_nbformat": 4
 },
 "nbformat": 4,
 "nbformat_minor": 2
}
